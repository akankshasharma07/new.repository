{
  "nbformat": 4,
  "nbformat_minor": 0,
  "metadata": {
    "colab": {
      "provenance": [],
      "authorship_tag": "ABX9TyNWrOL8umNcK7dz6BJEL9yR",
      "include_colab_link": true
    },
    "kernelspec": {
      "name": "python3",
      "display_name": "Python 3"
    },
    "language_info": {
      "name": "python"
    }
  },
  "cells": [
    {
      "cell_type": "markdown",
      "metadata": {
        "id": "view-in-github",
        "colab_type": "text"
      },
      "source": [
        "<a href=\"https://colab.research.google.com/github/akankshasharma07/new.repository/blob/main/FSDS_Assignment_Class_4.ipynb\" target=\"_parent\"><img src=\"https://colab.research.google.com/assets/colab-badge.svg\" alt=\"Open In Colab\"/></a>"
      ]
    },
    {
      "cell_type": "code",
      "execution_count": 3,
      "metadata": {
        "id": "rOi6Yh7cqNOM"
      },
      "outputs": [],
      "source": [
        "#### Q1. Find the largest number from the given list, use for loop.\n",
        "numbers = [12, 75, 150, 180, 145, 525, 50]"
      ]
    },
    {
      "cell_type": "code",
      "source": [
        "numbers = [12, 75, 150, 180, 145, 525, 50]\n",
        "largest = 0\n",
        "for i in numbers:\n",
        "  if largest < i:\n",
        "    largest = i\n",
        "print(f\"largest number in given list is: {largest}\")"
      ],
      "metadata": {
        "colab": {
          "base_uri": "https://localhost:8080/"
        },
        "id": "KtcdltHwqelM",
        "outputId": "c871cf42-cde9-4aba-bfa1-47624bd36700"
      },
      "execution_count": 5,
      "outputs": [
        {
          "output_type": "stream",
          "name": "stdout",
          "text": [
            "largest number in given list is: 525\n"
          ]
        }
      ]
    },
    {
      "cell_type": "markdown",
      "source": [
        "#### Q2. Print all the even number between (1, 12).\n"
      ],
      "metadata": {
        "id": "FytyTCR1sBYg"
      }
    },
    {
      "cell_type": "code",
      "source": [
        "for i in range(1,13):\n",
        "  if (i%2==0):\n",
        "    print (i)\n"
      ],
      "metadata": {
        "colab": {
          "base_uri": "https://localhost:8080/"
        },
        "id": "3Lty3p-gsCVu",
        "outputId": "33f7c991-2d38-481b-b182-2c313ef67689"
      },
      "execution_count": 12,
      "outputs": [
        {
          "output_type": "stream",
          "name": "stdout",
          "text": [
            "2\n",
            "4\n",
            "6\n",
            "8\n",
            "10\n",
            "12\n"
          ]
        }
      ]
    },
    {
      "cell_type": "markdown",
      "source": [
        "Q3. Calculate the sum of all numbers from 1 to a given number\n",
        "\n",
        "Expected Output:\n",
        "\n",
        "Enter number 10\n",
        "\n",
        "Sum is:  55"
      ],
      "metadata": {
        "id": "78fQTNgPtKAj"
      }
    },
    {
      "cell_type": "code",
      "source": [
        "num = int(input(\"enter the sum of all numbers: \"))\n",
        "sum =0\n",
        "for i in range(1, num+1):\n",
        "  sum = sum +i\n",
        "print(f\"sum is : {sum}\")\n",
        "\n",
        "  "
      ],
      "metadata": {
        "colab": {
          "base_uri": "https://localhost:8080/"
        },
        "id": "CKw0hZQqtNCq",
        "outputId": "75f9864a-537f-44c6-9117-4c8d1829fbcd"
      },
      "execution_count": 17,
      "outputs": [
        {
          "output_type": "stream",
          "name": "stdout",
          "text": [
            "enter the sum of all numbers: 10\n",
            "sum is : 55\n"
          ]
        }
      ]
    },
    {
      "cell_type": "markdown",
      "source": [
        "Q4. Write a program to display only those numbers from a list that satisfy the following conditions\n",
        "\n",
        "    The number must be divisible by five\n",
        "\n",
        "    If the number is greater than 150, then skip it and move to the next number\n",
        "\n",
        "    If the number is greater than 500, then stop the loop\n",
        "    \n",
        "    #given\n",
        "    numbers = [12, 75, 150, 180, 145, 525, 50]\n"
      ],
      "metadata": {
        "id": "mdqBdzXdvApH"
      }
    },
    {
      "cell_type": "code",
      "source": [
        "numbers = [12, 75, 150, 180, 145, 525, 50]\n",
        "for i in numbers:\n",
        "\n",
        "  if i%5==0:\n",
        "      if i>500:\n",
        "        break\n",
        "      if i> 150:\n",
        "        continue\n",
        "      print(i)\n",
        "\n"
      ],
      "metadata": {
        "colab": {
          "base_uri": "https://localhost:8080/"
        },
        "id": "nO_DLaM2vCU9",
        "outputId": "17d857b4-3b2f-4910-9895-06fcc99834cc"
      },
      "execution_count": 55,
      "outputs": [
        {
          "output_type": "stream",
          "name": "stdout",
          "text": [
            "75\n",
            "150\n",
            "145\n"
          ]
        }
      ]
    },
    {
      "cell_type": "markdown",
      "source": [
        "Q5. Print the given list in reverse order.\n",
        "\n",
        "list1 = [10, 20, 30, 40, 50]"
      ],
      "metadata": {
        "id": "dZApNexzy9py"
      }
    },
    {
      "cell_type": "code",
      "source": [
        "list1 = [10, 20, 30, 40,50]\n",
        "for i in reversed(list1):\n",
        "  print(i, end =\" \")"
      ],
      "metadata": {
        "colab": {
          "base_uri": "https://localhost:8080/"
        },
        "id": "zhNoCRtWy-z2",
        "outputId": "4a457508-6b9e-4bf8-c384-5f297cde9a43"
      },
      "execution_count": 62,
      "outputs": [
        {
          "output_type": "stream",
          "name": "stdout",
          "text": [
            "50 40 30 20 10 "
          ]
        }
      ]
    },
    {
      "cell_type": "code",
      "source": [],
      "metadata": {
        "id": "3m7TpcTrtsK8"
      },
      "execution_count": null,
      "outputs": []
    }
  ]
}