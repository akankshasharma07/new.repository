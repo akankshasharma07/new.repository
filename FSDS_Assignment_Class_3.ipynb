{
  "nbformat": 4,
  "nbformat_minor": 0,
  "metadata": {
    "colab": {
      "provenance": [],
      "collapsed_sections": [],
      "authorship_tag": "ABX9TyNB+JADg18EWH/xsm8iev9y",
      "include_colab_link": true
    },
    "kernelspec": {
      "name": "python3",
      "display_name": "Python 3"
    },
    "language_info": {
      "name": "python"
    }
  },
  "cells": [
    {
      "cell_type": "markdown",
      "metadata": {
        "id": "view-in-github",
        "colab_type": "text"
      },
      "source": [
        "<a href=\"https://colab.research.google.com/github/akankshasharma07/new.repository/blob/main/FSDS_Assignment_Class_3.ipynb\" target=\"_parent\"><img src=\"https://colab.research.google.com/assets/colab-badge.svg\" alt=\"Open In Colab\"/></a>"
      ]
    },
    {
      "cell_type": "markdown",
      "source": [
        "## Python String Manipulation"
      ],
      "metadata": {
        "id": "dPK8Z1u9Wx2o"
      }
    },
    {
      "cell_type": "markdown",
      "source": [
        "1.Count the number of times iNeuron appears in the string."
      ],
      "metadata": {
        "id": "BmmyJVp0XCeN"
      }
    },
    {
      "cell_type": "code",
      "source": [
        "text = \"Welcome to iNeuron, You are a part of FSDS Bootcamp 2 in iNeuron. I hope you are enjoying the course by iNeuron\""
      ],
      "metadata": {
        "id": "owArTZAZYYCw"
      },
      "execution_count": 6,
      "outputs": []
    },
    {
      "cell_type": "code",
      "source": [
        "text.count(\"iNeuron\")"
      ],
      "metadata": {
        "colab": {
          "base_uri": "https://localhost:8080/"
        },
        "id": "t0YpIeutXgCV",
        "outputId": "f2b8a950-b2ed-4bb5-971b-9854cbe306df"
      },
      "execution_count": 11,
      "outputs": [
        {
          "output_type": "execute_result",
          "data": {
            "text/plain": [
              "3"
            ]
          },
          "metadata": {},
          "execution_count": 11
        }
      ]
    },
    {
      "cell_type": "markdown",
      "source": [
        "2.Check if position 5 to 11 ends with the phrase iNeuron. in the string\n"
      ],
      "metadata": {
        "id": "yIei4O7BY9LD"
      }
    },
    {
      "cell_type": "code",
      "source": [
        "txt = \"Hello, welcome to FSDS 2.0 at iNeuron.\""
      ],
      "metadata": {
        "id": "ZBuXQywWZB5e"
      },
      "execution_count": 12,
      "outputs": []
    },
    {
      "cell_type": "code",
      "source": [
        "txt.endswith(\"iNeuron.\")"
      ],
      "metadata": {
        "colab": {
          "base_uri": "https://localhost:8080/"
        },
        "id": "ZYRuidNyZC1t",
        "outputId": "1aa5d61f-bb15-4e7e-8716-b56076efb55e"
      },
      "execution_count": 14,
      "outputs": [
        {
          "output_type": "execute_result",
          "data": {
            "text/plain": [
              "True"
            ]
          },
          "metadata": {},
          "execution_count": 14
        }
      ]
    },
    {
      "cell_type": "markdown",
      "source": [
        "3.Write a program that takes your full name as input and displays the abbreviations of the first and middle names except the last name which is displayed as it is. For example, if your name is Sunny Bhaveen Chandra, then the output should be S.B.Chandra."
      ],
      "metadata": {
        "id": "0LbpQVN1aAlr"
      }
    },
    {
      "cell_type": "code",
      "source": [
        "name = \"Sunny Bhaveen Chandra\"\n",
        "first_name, middle_name, last_name = name.split(\" \")\n",
        "\n",
        "print(f\"\"\"{first_name[0]}. {middle_name[0]}. {last_name}\"\"\")"
      ],
      "metadata": {
        "colab": {
          "base_uri": "https://localhost:8080/"
        },
        "id": "BF9TY9FOaC0J",
        "outputId": "d4b0a179-43f5-4c6b-8c6f-bf403e083f22"
      },
      "execution_count": 19,
      "outputs": [
        {
          "output_type": "stream",
          "name": "stdout",
          "text": [
            "S. B. Chandra\n"
          ]
        }
      ]
    },
    {
      "cell_type": "markdown",
      "source": [
        "4.Join all items in a list into a string, using a hash(#) character as separator:"
      ],
      "metadata": {
        "id": "k4J38Y_9d70O"
      }
    },
    {
      "cell_type": "code",
      "source": [
        "LIST = [\"My\", \"name\", \"is\", \"Rishav\", \"Dash\"]\n",
        "\"#\".join(LIST)"
      ],
      "metadata": {
        "colab": {
          "base_uri": "https://localhost:8080/",
          "height": 35
        },
        "id": "9w9mx6zteDnl",
        "outputId": "9ab02dad-0186-49e5-ee10-ca5c268b9b70"
      },
      "execution_count": 25,
      "outputs": [
        {
          "output_type": "execute_result",
          "data": {
            "text/plain": [
              "'My#name#is#Rishav#Dash'"
            ],
            "application/vnd.google.colaboratory.intrinsic+json": {
              "type": "string"
            }
          },
          "metadata": {},
          "execution_count": 25
        }
      ]
    },
    {
      "cell_type": "markdown",
      "source": [
        "5.Write example for the following string manipulation function,\n",
        "\n",
        "- isdecimal()\n",
        "- islower()\n",
        "- isupper()\n",
        "- isalpha()\n",
        "- isnumeric()"
      ],
      "metadata": {
        "id": "Sut7n3AXnnmV"
      }
    },
    {
      "cell_type": "code",
      "source": [
        "a= \"RAMAN\"\n",
        "a.islower()"
      ],
      "metadata": {
        "colab": {
          "base_uri": "https://localhost:8080/"
        },
        "id": "patg8jw8nowd",
        "outputId": "418322cd-8677-45f6-a82f-0d46faa6ade3"
      },
      "execution_count": 27,
      "outputs": [
        {
          "output_type": "execute_result",
          "data": {
            "text/plain": [
              "False"
            ]
          },
          "metadata": {},
          "execution_count": 27
        }
      ]
    },
    {
      "cell_type": "code",
      "source": [
        "a = \"RAMAN\"\n",
        "a.isupper()"
      ],
      "metadata": {
        "colab": {
          "base_uri": "https://localhost:8080/"
        },
        "id": "Tv4aMYu1ol4z",
        "outputId": "4da3eb15-b4c0-4d46-8086-53932cd34f5d"
      },
      "execution_count": 28,
      "outputs": [
        {
          "output_type": "execute_result",
          "data": {
            "text/plain": [
              "True"
            ]
          },
          "metadata": {},
          "execution_count": 28
        }
      ]
    },
    {
      "cell_type": "code",
      "source": [
        "a = \"abc\"\n",
        "a.isalpha()"
      ],
      "metadata": {
        "colab": {
          "base_uri": "https://localhost:8080/"
        },
        "id": "r5Ph1yHPoueM",
        "outputId": "3576ed82-8eda-49c6-bd3f-a3f7dae79875"
      },
      "execution_count": 29,
      "outputs": [
        {
          "output_type": "execute_result",
          "data": {
            "text/plain": [
              "True"
            ]
          },
          "metadata": {},
          "execution_count": 29
        }
      ]
    },
    {
      "cell_type": "code",
      "source": [
        "a =\"raman\"\n",
        "a.isnumeric()"
      ],
      "metadata": {
        "colab": {
          "base_uri": "https://localhost:8080/"
        },
        "id": "tlC9R01Po3br",
        "outputId": "469137b4-a38b-421a-d08a-7fd9c3c6be0d"
      },
      "execution_count": 33,
      "outputs": [
        {
          "output_type": "execute_result",
          "data": {
            "text/plain": [
              "False"
            ]
          },
          "metadata": {},
          "execution_count": 33
        }
      ]
    },
    {
      "cell_type": "code",
      "source": [
        "a = \"raman\"\n",
        "a.isdecimal()"
      ],
      "metadata": {
        "colab": {
          "base_uri": "https://localhost:8080/"
        },
        "id": "NdILpf_Po73n",
        "outputId": "338b805e-a3b4-44ff-8d7b-bfd8958c31e3"
      },
      "execution_count": 34,
      "outputs": [
        {
          "output_type": "execute_result",
          "data": {
            "text/plain": [
              "False"
            ]
          },
          "metadata": {},
          "execution_count": 34
        }
      ]
    },
    {
      "cell_type": "markdown",
      "source": [
        "6.Indian PAN card format follows the following formats -\n",
        "\n",
        "AYEPC7894X\n",
        "\n",
        "\n",
        "---\n",
        "\n",
        "\n",
        "ABCDE9999Y Take user input for PAN_CARD and validate as per the above example."
      ],
      "metadata": {
        "id": "UEwXp2xPqXpF"
      }
    },
    {
      "cell_type": "code",
      "source": [
        "pan_number = input()\n",
        "if pan_number[0:5].isupper() and pan_number[5:9].isnumeric() and pan_number[9].isupper() and len(pan_number)==10:\n",
        "  print(f\"user input is correct : {pan_number}\")\n",
        "else:\n",
        "  print(\"invalid input\")"
      ],
      "metadata": {
        "colab": {
          "base_uri": "https://localhost:8080/"
        },
        "id": "Hzund3PSqZN5",
        "outputId": "8804d4ac-6db9-4d44-86e0-cdd8213ff46c"
      },
      "execution_count": 35,
      "outputs": [
        {
          "output_type": "stream",
          "name": "stdout",
          "text": [
            "ABCDE9999Y\n",
            "user input is correct : ABCDE9999Y\n"
          ]
        }
      ]
    }
  ]
}