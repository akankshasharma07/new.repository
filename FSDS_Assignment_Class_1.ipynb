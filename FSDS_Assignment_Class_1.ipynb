{
  "nbformat": 4,
  "nbformat_minor": 0,
  "metadata": {
    "colab": {
      "provenance": [],
      "collapsed_sections": [],
      "authorship_tag": "ABX9TyP/OG3WzR18MKKRDf//RRUr",
      "include_colab_link": true
    },
    "kernelspec": {
      "name": "python3",
      "display_name": "Python 3"
    },
    "language_info": {
      "name": "python"
    }
  },
  "cells": [
    {
      "cell_type": "markdown",
      "metadata": {
        "id": "view-in-github",
        "colab_type": "text"
      },
      "source": [
        "<a href=\"https://colab.research.google.com/github/akankshasharma07/new.repository/blob/main/FSDS_Assignment_Class_1.ipynb\" target=\"_parent\"><img src=\"https://colab.research.google.com/assets/colab-badge.svg\" alt=\"Open In Colab\"/></a>"
      ]
    },
    {
      "cell_type": "code",
      "execution_count": 1,
      "metadata": {
        "id": "36Yjw88D_0Xs"
      },
      "outputs": [],
      "source": [
        "# **1. Find out all the types of error that we have encountered in our lecture and why? Also include the examples.**"
      ]
    },
    {
      "cell_type": "markdown",
      "source": [
        "*i. For case sensetivity:*"
      ],
      "metadata": {
        "id": "LI9iaPXaAg7K"
      }
    },
    {
      "cell_type": "code",
      "source": [
        "TEN = 10\n",
        "ten = 20\n",
        "print(Ten)"
      ],
      "metadata": {
        "colab": {
          "base_uri": "https://localhost:8080/",
          "height": 201
        },
        "id": "ATpg5kQ4APQJ",
        "outputId": "9f7e8c7f-6261-41f6-840a-be2127dd08ff"
      },
      "execution_count": 4,
      "outputs": [
        {
          "output_type": "error",
          "ename": "NameError",
          "evalue": "ignored",
          "traceback": [
            "\u001b[0;31m---------------------------------------------------------------------------\u001b[0m",
            "\u001b[0;31mNameError\u001b[0m                                 Traceback (most recent call last)",
            "\u001b[0;32m<ipython-input-4-3012334b7ff0>\u001b[0m in \u001b[0;36m<module>\u001b[0;34m\u001b[0m\n\u001b[1;32m      1\u001b[0m \u001b[0mTEN\u001b[0m \u001b[0;34m=\u001b[0m \u001b[0;36m10\u001b[0m\u001b[0;34m\u001b[0m\u001b[0;34m\u001b[0m\u001b[0m\n\u001b[1;32m      2\u001b[0m \u001b[0mten\u001b[0m \u001b[0;34m=\u001b[0m \u001b[0;36m20\u001b[0m\u001b[0;34m\u001b[0m\u001b[0;34m\u001b[0m\u001b[0m\n\u001b[0;32m----> 3\u001b[0;31m \u001b[0mprint\u001b[0m\u001b[0;34m(\u001b[0m\u001b[0mTen\u001b[0m\u001b[0;34m)\u001b[0m\u001b[0;34m\u001b[0m\u001b[0;34m\u001b[0m\u001b[0m\n\u001b[0m",
            "\u001b[0;31mNameError\u001b[0m: name 'Ten' is not defined"
          ]
        }
      ]
    },
    {
      "cell_type": "markdown",
      "source": [
        "*i. For case sensetivity:*"
      ],
      "metadata": {
        "id": "ZrVvIbqtAlBp"
      }
    },
    {
      "cell_type": "code",
      "source": [
        "print(\"Hi there\")\n",
        "\n",
        "print = \"Hi there\" # as a variable\n",
        "type(print)\n",
        "\n",
        "print(\"Hi there\")"
      ],
      "metadata": {
        "colab": {
          "base_uri": "https://localhost:8080/",
          "height": 218
        },
        "id": "45J55_2HAmHk",
        "outputId": "84f2bb4b-a080-40fa-d7a6-21917e3b1957"
      },
      "execution_count": 5,
      "outputs": [
        {
          "output_type": "stream",
          "name": "stdout",
          "text": [
            "Hi there\n"
          ]
        },
        {
          "output_type": "error",
          "ename": "TypeError",
          "evalue": "ignored",
          "traceback": [
            "\u001b[0;31m---------------------------------------------------------------------------\u001b[0m",
            "\u001b[0;31mTypeError\u001b[0m                                 Traceback (most recent call last)",
            "\u001b[0;32m<ipython-input-5-79f5d826ebd6>\u001b[0m in \u001b[0;36m<module>\u001b[0;34m\u001b[0m\n\u001b[1;32m      4\u001b[0m \u001b[0mtype\u001b[0m\u001b[0;34m(\u001b[0m\u001b[0mprint\u001b[0m\u001b[0;34m)\u001b[0m\u001b[0;34m\u001b[0m\u001b[0;34m\u001b[0m\u001b[0m\n\u001b[1;32m      5\u001b[0m \u001b[0;34m\u001b[0m\u001b[0m\n\u001b[0;32m----> 6\u001b[0;31m \u001b[0mprint\u001b[0m\u001b[0;34m(\u001b[0m\u001b[0;34m\"Hi there\"\u001b[0m\u001b[0;34m)\u001b[0m\u001b[0;34m\u001b[0m\u001b[0;34m\u001b[0m\u001b[0m\n\u001b[0m",
            "\u001b[0;31mTypeError\u001b[0m: 'str' object is not callable"
          ]
        }
      ]
    },
    {
      "cell_type": "code",
      "source": [
        "# delete the variable print\n",
        "del print "
      ],
      "metadata": {
        "id": "TEF-bdPbAt2T"
      },
      "execution_count": 6,
      "outputs": []
    },
    {
      "cell_type": "markdown",
      "source": [
        "*iii. Whenever we will take user input variable, we should mention the datatype. Because by default it takes as string literal. Thy for next use, the input can create an issue, like through an error or may lead to an unexpected output.*"
      ],
      "metadata": {
        "id": "lOkfaKvzAxJL"
      }
    },
    {
      "cell_type": "code",
      "source": [
        "# calcualte the age of the user\n",
        "\n",
        "name = input(\"Name: \") # always gives you string values\n",
        "place = input(\"place: \")\n",
        "year_of_birth = input(\"year_of_birth: \")\n",
        "\n",
        "age = 2022 - year_of_birth\n",
        "\n",
        "print(f\"\"\"\n",
        "My name is: {name}\n",
        "I live at: {place}\n",
        "{name} is of age: {age}\n",
        "\"\"\")"
      ],
      "metadata": {
        "id": "CHCob7cXAx-N"
      },
      "execution_count": null,
      "outputs": []
    },
    {
      "cell_type": "markdown",
      "source": [
        "*iv. If we mentioned the datatype of input variable, then we need to remember, while putting the value, we need to put exact mentioned datatype's value.*"
      ],
      "metadata": {
        "id": "4vnfsFLtA5Iz"
      }
    },
    {
      "cell_type": "code",
      "source": [
        "A = float(input(\"Enter value of A: \"))\n",
        "B = int(input(\"Enter value of B: \")) # 10.2 is float but converting to int\n",
        "\n",
        "print(f\"Sum of A and B is: {A+B}\")"
      ],
      "metadata": {
        "id": "HclXmK2mA08D"
      },
      "execution_count": null,
      "outputs": []
    },
    {
      "cell_type": "markdown",
      "source": [
        "*v. We can't change an empty string to any datatype*"
      ],
      "metadata": {
        "id": "08oWSSB2A_Do"
      }
    },
    {
      "cell_type": "code",
      "source": [
        "# empty string to int\n",
        "A = \"\"\n",
        "print(f\"data type before: {type(A)}, value of A: {A}\")\n",
        "A = int(A)\n",
        "print(f\"data type after: {type(A)}, value of A: {A}\")"
      ],
      "metadata": {
        "id": "EWvk0d_fA_qd"
      },
      "execution_count": null,
      "outputs": []
    },
    {
      "cell_type": "markdown",
      "source": [
        "# **2. Take input A and B and print their sum, mul, div, square of the nos.**"
      ],
      "metadata": {
        "id": "QE13ooAWBGRm"
      }
    },
    {
      "cell_type": "code",
      "source": [
        "# taking the user inputs\n",
        "a = int(input(\"Enter 1st number: \"))\n",
        "b = int(input(\"Enter 2nd number: \"))\n",
        "\n",
        "# mathematical equations\n",
        "sum = a + b\n",
        "mul = a * b\n",
        "div = a / b\n",
        "square = a ** 2\n",
        "\n",
        "print()\n",
        "\n",
        "# printing the results\n",
        "print(f\"The 'sum' of {a} & {b} is: {sum}\")\n",
        "print(f\"The 'mul' of {a} & {b} is: {mul}\")\n",
        "print(f\"The 'div' of {a} & {b} is: {div}\")\n",
        "print(f\"The 'square' of {a} & {b} is: {square}\")"
      ],
      "metadata": {
        "id": "q8URFnwFBJGy"
      },
      "execution_count": null,
      "outputs": []
    },
    {
      "cell_type": "markdown",
      "source": [
        "# **3. How many reserve keywords are there in python and why we should not use them as a variable name.**"
      ],
      "metadata": {
        "id": "uinfzgGJBMBK"
      }
    },
    {
      "cell_type": "markdown",
      "source": [
        "* There are only 33 reserve keywords in python.\n",
        "* We shouldn't use those as variable name because if I will use those words as variable, then those might revert in the data type of the variable, and for future use of those variable as keywords, will through an error."
      ],
      "metadata": {
        "id": "wMe640bkBSNO"
      }
    },
    {
      "cell_type": "markdown",
      "source": [
        "# **4. Create email ids with the user inputs. in the following format - lastname.firstname@gmail.com**"
      ],
      "metadata": {
        "id": "_iTwLA0OBWF8"
      }
    },
    {
      "cell_type": "code",
      "source": [
        "# taking the user inputs\n",
        "first_name = input(\"Enter the first name: \")\n",
        "last_name = input(\"Enter the last name: \")\n",
        "\n",
        "# creating the email id\n",
        "print(f\"The user email id is: {last_name}.{first_name}@gmail.com\")"
      ],
      "metadata": {
        "id": "QXzwofJ6BOv6"
      },
      "execution_count": null,
      "outputs": []
    },
    {
      "cell_type": "markdown",
      "source": [
        "# 5. Try to print the following lines -\n",
        " * **Hi I'm Sunny**\n",
        " * **My address is 22\\3**\n",
        " * **I earn 20$ daily.**  "
      ],
      "metadata": {
        "id": "S-rKsZFSBbPy"
      }
    },
    {
      "cell_type": "code",
      "source": [
        "# taking the user inputs\n",
        "statement_1 = \"Hi I'm Sunny\"\n",
        "statement_2 = \"My address is 22\\\\3\"\n",
        "statement_3 = \"I earn 20$ daily.\"\n",
        "\n",
        "# printing the statements\n",
        "print(f\"The 1st statement is: {statement_1}\")\n",
        "print(f\"The 2nd statement is: {statement_2}\")\n",
        "print(f\"The 3rd statement is: {statement_3}\")"
      ],
      "metadata": {
        "id": "gx21OgnaBeCL"
      },
      "execution_count": null,
      "outputs": []
    },
    {
      "cell_type": "markdown",
      "source": [
        "# **6. Take user input (name, address, date of birth etc) to fill a form for your college and print their email IDs**"
      ],
      "metadata": {
        "id": "VPWPDcD1BgPo"
      }
    },
    {
      "cell_type": "code",
      "source": [
        "# taking the user inputs\n",
        "first_name = input(\"Enter your first name: \")\n",
        "last_name = input(\"Enter your last name: \")\n",
        "\n",
        "house_no = input(\"Enter your house_no: \")\n",
        "vill_or_city = input(\"Enter your Village/City name: \")\n",
        "po = input(\"Enter your Post Office: \")\n",
        "ps = input(\"Enter your Police Station: \")\n",
        "pin = input(\"Enter your Postal Code: \")\n",
        "dist = input(\"Enter your District: \")\n",
        "state = input(\"Enter your State: \")\n",
        "\n",
        "dob = input(\"Enter your date of birth: \")\n",
        "\n",
        "# printing the outputs\n",
        "print(f\"\\nYour full name: {first_name} {last_name}\")\n",
        "\n",
        "print()\n",
        "\n",
        "print(f\"\"\"Your full address:- \n",
        "house_no: {house_no},\n",
        "Village/City name: {vill_or_city},\n",
        "Post Office: {po},\n",
        "Police Station: {ps},\n",
        "Postal Code: {pin},\n",
        "District: {dist},\n",
        "State: {state}\"\"\")\n",
        "\n",
        "print()\n",
        "\n",
        "print(f\"Your D.O.B. is: {dob}\")\n",
        "\n",
        "print()\n",
        "\n",
        "\n",
        "# creating the email id\n",
        "print(f\"The user email id is: {(last_name.lower())}.{(first_name.lower())}@gmail.com\")"
      ],
      "metadata": {
        "id": "nu1pOCRUBjDP"
      },
      "execution_count": null,
      "outputs": []
    },
    {
      "cell_type": "markdown",
      "source": [
        "7. Convert the following -\n",
        " * \"22.4\" into integer\n",
        " * \"22\" into complex no."
      ],
      "metadata": {
        "id": "ANYWc58DBqua"
      }
    },
    {
      "cell_type": "code",
      "source": [
        "# float to integer\n",
        "x = 22.4\n",
        "print(f\"The data type of given number is: {type(x)}, value of x: {x}\")\n",
        "x = int(x)\n",
        "print(f\"After converting '22.4' into integer: {x}\")\n",
        "\n",
        "print()\n",
        "\n",
        "# integer to float\n",
        "y = 22\n",
        "print(f\"The data type of given number is: {type(y)}, value of x: {y}\")\n",
        "y = float(y)\n",
        "print(f\"After converting '22' into float: {y}\")"
      ],
      "metadata": {
        "id": "-YG1GlxsBeIf"
      },
      "execution_count": null,
      "outputs": []
    }
  ]
}