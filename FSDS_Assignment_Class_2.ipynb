{
  "nbformat": 4,
  "nbformat_minor": 0,
  "metadata": {
    "colab": {
      "provenance": [],
      "collapsed_sections": [],
      "authorship_tag": "ABX9TyN8L45XLzHGW5bP64jz79mY",
      "include_colab_link": true
    },
    "kernelspec": {
      "name": "python3",
      "display_name": "Python 3"
    },
    "language_info": {
      "name": "python"
    }
  },
  "cells": [
    {
      "cell_type": "markdown",
      "metadata": {
        "id": "view-in-github",
        "colab_type": "text"
      },
      "source": [
        "<a href=\"https://colab.research.google.com/github/akankshasharma07/new.repository/blob/main/FSDS_Assignment_Class_2.ipynb\" target=\"_parent\"><img src=\"https://colab.research.google.com/assets/colab-badge.svg\" alt=\"Open In Colab\"/></a>"
      ]
    },
    {
      "cell_type": "markdown",
      "source": [
        "### 1. What is indentation error? Why indentation is important? Give one simple example?"
      ],
      "metadata": {
        "id": "wBKKUaAmG3G1"
      }
    },
    {
      "cell_type": "markdown",
      "source": [
        "#### Ans:- If we are not providing proper white spaces so that the interpreter would able to understand the block of code that is what all lines of code to be executed  then we get Indentation Error."
      ],
      "metadata": {
        "id": "6eS5H0gFHKMp"
      }
    },
    {
      "cell_type": "code",
      "execution_count": null,
      "metadata": {
        "colab": {
          "base_uri": "https://localhost:8080/",
          "height": 131
        },
        "id": "Y_mbpa8p6LiP",
        "outputId": "0c2bc319-307f-49ca-9a3b-ae8c94081a0b"
      },
      "outputs": [
        {
          "output_type": "error",
          "ename": "IndentationError",
          "evalue": "ignored",
          "traceback": [
            "\u001b[0;36m  File \u001b[0;32m\"<ipython-input-1-0657b193df3e>\"\u001b[0;36m, line \u001b[0;32m2\u001b[0m\n\u001b[0;31m    print(f\"The age is : {calculated_age}\")\u001b[0m\n\u001b[0m    ^\u001b[0m\n\u001b[0;31mIndentationError\u001b[0m\u001b[0;31m:\u001b[0m unexpected indent\n"
          ]
        }
      ],
      "source": [
        "calculated_age= 20\n",
        "  print(f\"The age is : {calculated_age}\")"
      ]
    },
    {
      "cell_type": "markdown",
      "source": [
        "2. Correct the following code and write the comment where you made the correction?\n",
        "\n",
        "  ```python\n",
        "  class_started = bool(input(\"Hey friend, is class started?: [0-False/1-True]\"))\n",
        "\n",
        "  if class_started:\n",
        "      print(\"Since class started...\")\n",
        "      print(\"Lets concentrate\")\n",
        "  else:\n",
        "      print(\"Since class is not started...\")\n",
        "      print(\"let's revise\")    \n",
        "  ```\n",
        "\n",
        "  **HINT:** Refer your data type conversion class"
      ],
      "metadata": {
        "id": "ir9FRdw9IKam"
      }
    },
    {
      "cell_type": "code",
      "source": [
        "class_started = input(\"Hey friend, is class started?: [0-False/1-True]\") ## have removed the boolean conversion as input is True if it is not empty.\n",
        "## this error is because of the previous indentation error.\n",
        "\n",
        "if class_started == \"0\" or class_started == \"False\": ## have added an if condition to check whether its 0 or false and convert class_started to empty string \n",
        "  class_started = \"\"\n",
        "\n",
        "\n",
        "if  class_started :\n",
        "      print(\"Since class started...\")\n",
        "      print(\"Lets concentrate\")\n",
        "else:\n",
        "      print(\"Since class is not started...\")\n",
        "      print(\"let's revise\")"
      ],
      "metadata": {
        "colab": {
          "base_uri": "https://localhost:8080/"
        },
        "id": "6_kFxHqWH282",
        "outputId": "d9f60ec2-3eaa-4bcf-e3f3-3ebd0594abcf"
      },
      "execution_count": null,
      "outputs": [
        {
          "output_type": "stream",
          "name": "stdout",
          "text": [
            "Hey friend, is class started?: [0-False/1-True]1\n",
            "Since class started...\n",
            "Lets concentrate\n"
          ]
        }
      ]
    },
    {
      "cell_type": "markdown",
      "source": [
        "3. Use if else condition to verify that dataype of `input()` method in python is always string."
      ],
      "metadata": {
        "id": "5dFgYkCoJTW8"
      }
    },
    {
      "cell_type": "code",
      "source": [
        "class_started= input(\"Hey friend, is class started?: [0-False/1-True]\")\n",
        "\n",
        "if type(class_started)==str:\n",
        "  print(type(class_started))\n",
        "  print(\"I am a string\")\n",
        "else:\n",
        "    print(\"I am not a string\")"
      ],
      "metadata": {
        "colab": {
          "base_uri": "https://localhost:8080/"
        },
        "id": "yopelpM2JUDW",
        "outputId": "88a2148a-be97-4ce8-d00c-06fe7497c6ff"
      },
      "execution_count": null,
      "outputs": [
        {
          "output_type": "stream",
          "name": "stdout",
          "text": [
            "Hey friend, is class started?: [0-False/1-True]1\n",
            "<class 'str'>\n",
            "I am a string\n"
          ]
        }
      ]
    },
    {
      "cell_type": "markdown",
      "source": [
        "4. Take 3 variables and assign integer values to them. Find the largest variable, by only using the if and else conditions."
      ],
      "metadata": {
        "id": "fQRitZlRMC6r"
      }
    },
    {
      "cell_type": "code",
      "source": [
        "a=10\n",
        "b=20\n",
        "c=4\n",
        "\n",
        "if a<b:\n",
        "  if b<c:\n",
        "    print(\"c is greater\")\n",
        "  else:\n",
        "    print(\"b is greater\")\n",
        "else:\n",
        "   print(\"a is greater\")"
      ],
      "metadata": {
        "colab": {
          "base_uri": "https://localhost:8080/"
        },
        "id": "lzsSzc88MDtE",
        "outputId": "c7475156-447f-4905-894c-e758e835b391"
      },
      "execution_count": null,
      "outputs": [
        {
          "output_type": "stream",
          "name": "stdout",
          "text": [
            "b is greater\n"
          ]
        }
      ]
    },
    {
      "cell_type": "markdown",
      "source": [
        "5. What would be the solution?\n",
        "    1. True\n",
        "    2. False\n",
        "\n",
        "    ```python\n",
        "    a = 6\n",
        "    b = 10\n",
        "    print( not ( not a == 10 or not b == 10) )\n",
        "    ```"
      ],
      "metadata": {
        "id": "aVk0_1h8OmJr"
      }
    },
    {
      "cell_type": "markdown",
      "source": [
        "False"
      ],
      "metadata": {
        "id": "HW14TvwHOyaw"
      }
    },
    {
      "cell_type": "markdown",
      "source": [
        "6. Find the answer as well as find out the reason behind the result? -\n",
        "    - case 1:\n",
        "        ```python\n",
        "        A = 5.0\n",
        "        B = 10/2\n",
        "        print(A is B)\n",
        "        ```\n",
        "    - case 2:\n",
        "        ```python\n",
        "        A = 5.0\n",
        "        B = int(10/2)\n",
        "        print(A is B)\n",
        "        ```\n",
        "    - case 3:\n",
        "        ```python\n",
        "        A = 5.0\n",
        "        B = float(10/2)\n",
        "        print(A is B)\n",
        "        ```"
      ],
      "metadata": {
        "id": "WVvB9olDO5Wf"
      }
    },
    {
      "cell_type": "code",
      "source": [
        "# Case 1\n",
        "\n",
        "A= 5.0\n",
        "B= 10/2\n",
        "\n",
        "print(A is B)\n",
        "\n",
        "\"\"\"A is floating type number with base 10 where as B is arithmatic operation with base 2 thats why the value is False. \n",
        "Python only prints a decimal approximation to the true decimal value of the binary approximation stored by the machine.\n",
        "\"\"\""
      ],
      "metadata": {
        "colab": {
          "base_uri": "https://localhost:8080/",
          "height": 70
        },
        "id": "12QtPbsOPPaL",
        "outputId": "df408497-8be5-463e-a8cd-100b17d181ba"
      },
      "execution_count": null,
      "outputs": [
        {
          "output_type": "stream",
          "name": "stdout",
          "text": [
            "False\n"
          ]
        },
        {
          "output_type": "execute_result",
          "data": {
            "text/plain": [
              "'A is floating type number with base 10 where as B is arithmatic operation with base 2 thats why the value is False. \\nPython only prints a decimal approximation to the true decimal value of the binary approximation stored by the machine.\\n'"
            ],
            "application/vnd.google.colaboratory.intrinsic+json": {
              "type": "string"
            }
          },
          "metadata": {},
          "execution_count": 18
        }
      ]
    },
    {
      "cell_type": "code",
      "source": [
        "# Case 2\n",
        "A = 5.0\n",
        "B = int(10/2)\n",
        "print(A is B)\n",
        "\n",
        "\"\"\"\n",
        "A is floating type number with base 10 and B is type casted to integer with base 2 so it is printed as False\n",
        "\"\"\""
      ],
      "metadata": {
        "colab": {
          "base_uri": "https://localhost:8080/",
          "height": 52
        },
        "id": "O3nKTtKBPX6Q",
        "outputId": "a55e1a48-947c-431b-a135-01a654eed0bb"
      },
      "execution_count": null,
      "outputs": [
        {
          "output_type": "stream",
          "name": "stdout",
          "text": [
            "False\n"
          ]
        },
        {
          "output_type": "execute_result",
          "data": {
            "text/plain": [
              "'\\nA is floating type number with base 10 and B is type casted to integer with base 2 so it is printed as False\\n'"
            ],
            "application/vnd.google.colaboratory.intrinsic+json": {
              "type": "string"
            }
          },
          "metadata": {},
          "execution_count": 19
        }
      ]
    },
    {
      "cell_type": "code",
      "source": [
        "A = 5.0\n",
        "B = float(10/2)\n",
        "print(A is B)\n",
        "\"\"\"\n",
        "the arithmatic expression is of base 2 and is converted to float type . Same as case 1 \n",
        "\n",
        "\"\"\""
      ],
      "metadata": {
        "colab": {
          "base_uri": "https://localhost:8080/",
          "height": 52
        },
        "id": "7jJLKfPhPgIJ",
        "outputId": "9fc6b6b8-bf2a-40ae-fb10-58062f34ce8a"
      },
      "execution_count": null,
      "outputs": [
        {
          "output_type": "stream",
          "name": "stdout",
          "text": [
            "False\n"
          ]
        },
        {
          "output_type": "execute_result",
          "data": {
            "text/plain": [
              "'\\nthe arithmatic expression is of base 2 and is converted to float type . Same as case 1 \\n\\n'"
            ],
            "application/vnd.google.colaboratory.intrinsic+json": {
              "type": "string"
            }
          },
          "metadata": {},
          "execution_count": 20
        }
      ]
    },
    {
      "cell_type": "markdown",
      "source": [
        "### Try to understand the following examples and answer the question based on it - \n",
        "    \n",
        "**Arithmatic Operators**\n",
        "\n",
        "|Operation|Meaning|\n",
        "|:-:|:-:|\n",
        "| **+** |addition|\n",
        "| **-** |subtraction|\n",
        "| **\\*** |multiplication|\n",
        "| **/** |true division|\n",
        "| **//** |integer division|\n",
        "| **%** |the modulo operator|\n",
        "\n",
        "\n",
        "Here `+`, `-`, `*`, `/` are regular arithmatic operators. Lets look at the `//` and `%` operators\n",
        "\n",
        "Usecase or examples - \n",
        "    \n",
        "```python\n",
        "var_a = 5\n",
        "var_b = 25\n",
        "integer_division = var_b // var_a\n",
        "print(f\"integer division: {var_b}/{var_a}={integer_division}\")\n",
        "```\n",
        "\n",
        "OUTPUT: integer division: 25/5=5\n",
        "\n",
        "```python\n",
        "var_a = 3\n",
        "var_b = 25\n",
        "integer_division = var_b // var_a\n",
        "print(f\"integer division: {var_b}/{var_a}={integer_division}\")\n",
        "```\n",
        "\n",
        "OUTPUT: integer division: 25/3=8\n",
        "\n",
        "```python\n",
        "var_a = 5\n",
        "var_b = 25\n",
        "remainder = var_b % var_a\n",
        "print(f\"remainder: {var_b}/{var_a} is {remainder}\")\n",
        "```\n",
        "\n",
        "OUTPUT: remainder: 25/5 is 0\n",
        "\n",
        "```python\n",
        "var_a = 3\n",
        "var_b = 25\n",
        "remainder = var_b % var_a\n",
        "print(f\"remainder: {var_b}/{var_a} is {remainder}\")\n",
        "```\n",
        "\n",
        "OUTPUT: remainder: 25/3 is 1\n",
        "\n"
      ],
      "metadata": {
        "id": "w2N-z_xSP0CW"
      }
    },
    {
      "cell_type": "markdown",
      "source": [
        "\n",
        "7. Write a program that asks the user to enter a number. You should print out a message to the user, either “That number is divisible by either 3 or 5”, or “That number is not divisible by either 3 or 5”. Be sure to consider the data type of the input you are taking in from the user. Use a single if/else block to solve this problem."
      ],
      "metadata": {
        "id": "cfHmLUmfQWBD"
      }
    },
    {
      "cell_type": "code",
      "source": [
        "number = int(input(\"please enter the number is divisible by either 3 or 5: \"))\n",
        "if ((number%3==0) or (number%5==0)):\n",
        " print(\"The number is either divisible by 3 or 5\")\n",
        "else:\n",
        "  print(\"The number is not divisble by 3 or 5\")\n",
        "\n"
      ],
      "metadata": {
        "id": "RHZeMemDQWmz"
      },
      "execution_count": null,
      "outputs": []
    },
    {
      "cell_type": "markdown",
      "source": [
        "8. Take user input for length and width. Then calculate the area of rectangle. Also print as per length and width whether its a square of rectangle."
      ],
      "metadata": {
        "id": "ee9tR4WzRynR"
      }
    },
    {
      "cell_type": "code",
      "source": [
        "length =int(input(\"enter the length: \"))\n",
        "width = int(input(\"enter the width: \"))\n",
        "area = length * width\n",
        "\n",
        "if(length==width):\n",
        "  print(f\"length {length} metre and width {width} metre is same so it is sqaure\")\n",
        "else:\n",
        "    print(f\"The area of the rectangle with length {length} metres and width {width} metres is : {area} sq. metres\")"
      ],
      "metadata": {
        "id": "p4ukoeW1R4yh",
        "colab": {
          "base_uri": "https://localhost:8080/"
        },
        "outputId": "360fc78c-2eeb-4f47-a50b-588f8f2a2bc1"
      },
      "execution_count": 9,
      "outputs": [
        {
          "output_type": "stream",
          "name": "stdout",
          "text": [
            "enter the length: 2\n",
            "enter the width: 5\n",
            "The area of the rectangle with length 2 metres and width 5 metres is : 10 sq. metres\n"
          ]
        }
      ]
    },
    {
      "cell_type": "markdown",
      "source": [
        "9. Take two variable radius_1 and radius_2 and calculate the area of circle_1 and circle_2. Also print which circle has large area. If area is equal then print area is equal."
      ],
      "metadata": {
        "id": "rooZrplfhgvN"
      }
    },
    {
      "cell_type": "code",
      "source": [
        "radius_1 = int(input(\"enter the radius_1 :\"))\n",
        "radius_2 = int(input(\"enter the radius_2 :\"))\n",
        "\n",
        "circle_1 = 3.14*radius_1 * radius_1\n",
        "circle_2 = 3.14*radius_2 * radius_2\n",
        "print(f\"area of circle_1 {circle_1}\")\n",
        "print(f\"area of circle_2 {circle_2}\")\n",
        "\n",
        "if (circle_1 > circle_2) :\n",
        "  print(\"circle_1 has large area\")\n",
        "elif (circle_2 > circle_1) :\n",
        "  print(\"circle_2 has large area\")\n",
        "else:\n",
        "  print(\"area is equal\")\n"
      ],
      "metadata": {
        "colab": {
          "base_uri": "https://localhost:8080/"
        },
        "id": "T5WCulJ3hlLx",
        "outputId": "930bda0a-7124-4b6f-b277-2370279e7f3e"
      },
      "execution_count": 11,
      "outputs": [
        {
          "output_type": "stream",
          "name": "stdout",
          "text": [
            "enter the radius_1 :2\n",
            "enter the radius_2 :2\n",
            "area of circle_1 12.56\n",
            "area of circle_2 12.56\n",
            "area is equal\n"
          ]
        }
      ]
    },
    {
      "cell_type": "markdown",
      "source": [
        "10. Check whether a year is leap year or not. Use nested if...else to solve this problem. A leap year is exactly divisible by 4 except for century years (years ending with 00). The century year is a leap year only if it is perfectly divisible by 400."
      ],
      "metadata": {
        "id": "6Jgj8pyLkgpS"
      }
    },
    {
      "cell_type": "code",
      "source": [
        "leap_year = 2100\n",
        "\n",
        "if leap_year % 4 == 0 :\n",
        "  if leap_year % 400 ==0:\n",
        "    print(\"It is a leap year\")\n",
        "  else:\n",
        "    print(\"Not a leap year\")\n",
        "else:\n",
        "  print(\"It is not a leap year\")"
      ],
      "metadata": {
        "colab": {
          "base_uri": "https://localhost:8080/"
        },
        "id": "pFwVM474khd5",
        "outputId": "a483c2e6-e842-46f5-fdec-c084b297f3df"
      },
      "execution_count": 15,
      "outputs": [
        {
          "output_type": "stream",
          "name": "stdout",
          "text": [
            "Not a leap year\n"
          ]
        }
      ]
    }
  ]
}